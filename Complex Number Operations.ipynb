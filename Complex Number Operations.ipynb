{
 "cells": [
  {
   "cell_type": "markdown",
   "id": "864c3118-cbed-429e-aa19-ab5bf535e9e3",
   "metadata": {},
   "source": [
    "# Complex Number Operations\n",
    "Design a program that performs basic operations on complex numbers:\n",
    "\n",
    "Addition, subtraction, multiplication, and division of two complex numbers.\n",
    "Display the real and imaginary parts separately."
   ]
  },
  {
   "cell_type": "code",
   "execution_count": null,
   "id": "1a416ded-6d30-47d4-bc48-f34e8a10f480",
   "metadata": {},
   "outputs": [],
   "source": [
    "real_part1 = float(input(\"Enter the real part of the first complex number: \"))\n",
    "imag_part1 = float(input(\"Enter the imaginary part of the first complex number: \"))\n",
    "\n",
    "real_part2 = float(input(\"Enter the real part of the second complex number: \"))\n",
    "imag_part2 = float(input(\"Enter the imaginary part of the second complex number: \"))\n",
    "\n",
    "\n",
    "complex_num1 = complex(real_part1, imag_part1)\n",
    "complex_num2 = complex(real_part2, imag_part2)\n",
    "\n",
    "\n",
    "addition = complex_num1 + complex_num2\n",
    "subtraction = complex_num1 - complex_num2\n",
    "multiplication = complex_num1 * complex_num2\n",
    "division = complex_num1 / complex_num2\n",
    "\n",
    "print ()\n",
    "\n",
    "print(\"Your complex numbers are:\" + str(complex_num1) + \" and \" + str(complex_num2))\n",
    "\n",
    "print ()\n",
    "\n",
    "print(\"Addition:\" + str(addition))\n",
    "print(\"Subtraction:\" + str(subtraction))\n",
    "print(\"Multiplication:\" + str(multiplication))\n",
    "print(\"Division:\" + str(division))\n",
    "\n",
    "print ()\n",
    "\n",
    "\n",
    "print(\"Real part of the sum:\" + str(addition.real))\n",
    "print(\"Imaginary part of the sum:\" + str(addition.imag))\n",
    "print(\"Real part of the difference:\" + str(subtraction.real))\n",
    "print(\"Imaginary part of the difference:\" + str(subtraction.imag))\n",
    "print(\"Real part of the product:\" + str(multiplication.real))\n",
    "print(\"Imaginary part of the product:\" + str(multiplication.imag))\n",
    "print(\"Real part of the quotient:\" + str(division.real))\n",
    "print(\"Imaginary part of the quotient:\" + str(division.imag))\n"
   ]
  }
 ],
 "metadata": {
  "kernelspec": {
   "display_name": "Python 3 (ipykernel)",
   "language": "python",
   "name": "python3"
  },
  "language_info": {
   "codemirror_mode": {
    "name": "ipython",
    "version": 3
   },
   "file_extension": ".py",
   "mimetype": "text/x-python",
   "name": "python",
   "nbconvert_exporter": "python",
   "pygments_lexer": "ipython3",
   "version": "3.11.5"
  }
 },
 "nbformat": 4,
 "nbformat_minor": 5
}
